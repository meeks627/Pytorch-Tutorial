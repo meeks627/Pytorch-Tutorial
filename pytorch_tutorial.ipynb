{
  "nbformat": 4,
  "nbformat_minor": 0,
  "metadata": {
    "colab": {
      "provenance": [],
      "authorship_tag": "ABX9TyNXbT+ZIaIfef5zpH65YWfe",
      "include_colab_link": true
    },
    "kernelspec": {
      "name": "python3",
      "display_name": "Python 3"
    },
    "language_info": {
      "name": "python"
    }
  },
  "cells": [
    {
      "cell_type": "markdown",
      "metadata": {
        "id": "view-in-github",
        "colab_type": "text"
      },
      "source": [
        "<a href=\"https://colab.research.google.com/github/meeks627/Pytorch-Tutorial/blob/main/pytorch_tutorial.ipynb\" target=\"_parent\"><img src=\"https://colab.research.google.com/assets/colab-badge.svg\" alt=\"Open In Colab\"/></a>"
      ]
    },
    {
      "cell_type": "markdown",
      "source": [
        "##INTRODUCTIION"
      ],
      "metadata": {
        "id": "4-iyI139GFnN"
      }
    },
    {
      "cell_type": "code",
      "execution_count": 120,
      "metadata": {
        "id": "hELQYBTpYA8J"
      },
      "outputs": [],
      "source": [
        "import torch\n",
        "import numpy as np"
      ]
    },
    {
      "cell_type": "code",
      "source": [
        "tensor_2d = torch.randn(3,4)\n",
        "tensor_2d\n",
        "# tensor_2d.dtype"
      ],
      "metadata": {
        "colab": {
          "base_uri": "https://localhost:8080/"
        },
        "id": "KEnR-RcrY1SE",
        "outputId": "e43c5c5e-0202-4f30-dda7-9eccae46fc91"
      },
      "execution_count": 121,
      "outputs": [
        {
          "output_type": "execute_result",
          "data": {
            "text/plain": [
              "tensor([[-0.1287,  0.9819, -1.0504, -2.1112],\n",
              "        [-1.6784, -1.0515,  0.1677, -1.3358],\n",
              "        [ 0.3738, -0.7649, -0.0159,  1.3998]])"
            ]
          },
          "metadata": {},
          "execution_count": 121
        }
      ]
    },
    {
      "cell_type": "code",
      "source": [
        "tensor_3d= torch.randn(2,3,4)\n",
        "tensor_3d"
      ],
      "metadata": {
        "id": "2Rn3VReeycgb",
        "colab": {
          "base_uri": "https://localhost:8080/"
        },
        "outputId": "4326aff6-5898-4a26-91c1-03b78decacb8"
      },
      "execution_count": 122,
      "outputs": [
        {
          "output_type": "execute_result",
          "data": {
            "text/plain": [
              "tensor([[[-0.5860, -1.5674, -1.0450,  0.1614],\n",
              "         [-0.4359,  0.3245, -1.3839,  0.1604],\n",
              "         [-0.9693,  1.1386, -1.9208,  1.0873]],\n",
              "\n",
              "        [[ 0.3353, -0.4042,  0.3806, -0.0220],\n",
              "         [ 1.5326,  0.5400, -0.0658, -2.0533],\n",
              "         [ 0.2417, -0.3447,  0.7803, -1.1549]]])"
            ]
          },
          "metadata": {},
          "execution_count": 122
        }
      ]
    },
    {
      "cell_type": "markdown",
      "source": [
        "###Tensor from Numpy"
      ],
      "metadata": {
        "id": "S980yeteGFbh"
      }
    },
    {
      "cell_type": "code",
      "source": [
        "data = [[3,4],[8,11]]\n",
        "xdata = np.array(data)\n",
        "data_t = torch.tensor(data)\n",
        "print(xdata)\n",
        "print(data_t)\n",
        "print(torch.from_numpy(xdata))\n",
        "print(torch.ones_like(data_t))\n",
        "print(torch.zeros_like(data_t))\n"
      ],
      "metadata": {
        "id": "HQ-2NxlYzyrT",
        "colab": {
          "base_uri": "https://localhost:8080/"
        },
        "outputId": "5894cf1f-2070-4a62-dec7-0554ef412070"
      },
      "execution_count": 123,
      "outputs": [
        {
          "output_type": "stream",
          "name": "stdout",
          "text": [
            "[[ 3  4]\n",
            " [ 8 11]]\n",
            "tensor([[ 3,  4],\n",
            "        [ 8, 11]])\n",
            "tensor([[ 3,  4],\n",
            "        [ 8, 11]])\n",
            "tensor([[1, 1],\n",
            "        [1, 1]])\n",
            "tensor([[0, 0],\n",
            "        [0, 0]])\n"
          ]
        }
      ]
    },
    {
      "cell_type": "markdown",
      "source": [
        "##Tensor Operation"
      ],
      "metadata": {
        "id": "kWPkyYQG2tvE"
      }
    },
    {
      "cell_type": "code",
      "source": [
        "my_tensor = torch.arange(20)\n",
        "my_tensor.reshape(4,5)"
      ],
      "metadata": {
        "colab": {
          "base_uri": "https://localhost:8080/"
        },
        "id": "kgwtwho52inH",
        "outputId": "f1d5e1bb-06e6-45d8-890b-3b9eee994747"
      },
      "execution_count": 117,
      "outputs": [
        {
          "output_type": "execute_result",
          "data": {
            "text/plain": [
              "tensor([[ 0,  1,  2,  3,  4],\n",
              "        [ 5,  6,  7,  8,  9],\n",
              "        [10, 11, 12, 13, 14],\n",
              "        [15, 16, 17, 18, 19]])"
            ]
          },
          "metadata": {},
          "execution_count": 117
        }
      ]
    },
    {
      "cell_type": "code",
      "source": [
        "my_tensor2 = torch.arange(20).reshape(2,2,5)\n",
        "print(my_tensor2)\n",
        "print(my_tensor2[:,1,1:-1])\n",
        "print(my_tensor2[0,0:2,0:2])\n"
      ],
      "metadata": {
        "colab": {
          "base_uri": "https://localhost:8080/"
        },
        "id": "LKU6SqOz3d9n",
        "outputId": "9ee47f48-9aff-4891-c9bd-8e5c1b749c81"
      },
      "execution_count": 118,
      "outputs": [
        {
          "output_type": "stream",
          "name": "stdout",
          "text": [
            "tensor([[[ 0,  1,  2,  3,  4],\n",
            "         [ 5,  6,  7,  8,  9]],\n",
            "\n",
            "        [[10, 11, 12, 13, 14],\n",
            "         [15, 16, 17, 18, 19]]])\n",
            "tensor([[ 6,  7,  8],\n",
            "        [16, 17, 18]])\n",
            "tensor([[0, 1],\n",
            "        [5, 6]])\n"
          ]
        }
      ]
    },
    {
      "cell_type": "code",
      "source": [
        "Var1 = torch.randint(1,10,(2,2))\n",
        "Var2 = torch.randint(1,10,(2,2))\n",
        "print(torch.add(Var1,Var2))\n",
        "print(torch.sub(Var1,Var2))\n",
        "print(torch.mul(Var1,Var2))\n",
        "print(torch.div(Var1,Var2))"
      ],
      "metadata": {
        "id": "uKfwt53ZnhFx",
        "colab": {
          "base_uri": "https://localhost:8080/"
        },
        "outputId": "7cf7d8a6-b89b-4530-95e6-1e41e71afc4a"
      },
      "execution_count": 119,
      "outputs": [
        {
          "output_type": "stream",
          "name": "stdout",
          "text": [
            "tensor([[11,  7],\n",
            "        [ 6, 10]])\n",
            "tensor([[-5,  3],\n",
            "        [ 0, -6]])\n",
            "tensor([[24, 10],\n",
            "        [ 9, 16]])\n",
            "tensor([[0.3750, 2.5000],\n",
            "        [1.0000, 0.2500]])\n"
          ]
        }
      ]
    },
    {
      "cell_type": "markdown",
      "source": [
        "##Building a Simple model"
      ],
      "metadata": {
        "id": "CEcV66UKmmLu"
      }
    },
    {
      "cell_type": "code",
      "source": [
        "import torch\n",
        "import torch.nn as nn\n",
        "import torch.nn.functional as F\n",
        "import matplotlib.pyplot as plt\n",
        "import pandas as pd"
      ],
      "metadata": {
        "id": "WKl0XsLcmuSG"
      },
      "execution_count": 124,
      "outputs": []
    },
    {
      "cell_type": "code",
      "source": [
        "class Model(nn.Module):\n",
        "  def __init__(self,in_size=4,h1=8,h2=9,out_size=3):\n",
        "    super().__init__() #instantiate ou nn.module\n",
        "    self.fc1 = nn.Linear(in_size,h1)\n",
        "    self.fc2= nn.Linear(h1,h2)\n",
        "    self.out = nn.Linear(h2,out_size)\n",
        "  def forward(self,x):\n",
        "    X = F.relu(self.fc1(x))\n",
        "    X = F.relu(self.fc2(X))\n",
        "    X = self.out(X)\n",
        "    return X\n",
        "\n",
        "# M = Model()\n",
        "# points = torch.randn(40,2)\n",
        "# M.forward(points)\n",
        "# print(M.w1.weight[1,1])\n",
        "# print(M.w1.bias[1\n",
        "#                 ])\n",
        "# torch.save(M.state_dict(),'model.pt')"
      ],
      "metadata": {
        "id": "xw1PIyFCnoY0"
      },
      "execution_count": 125,
      "outputs": []
    },
    {
      "cell_type": "code",
      "source": [
        "torch.manual_seed(41)\n",
        "#create an instance of our model\n",
        "model = Model()\n",
        "url ='https://gist.githubusercontent.com/curran/a08a1080b88344b0c8a7/raw/0e7a9b0a5d22642a06d3d5b9bcbad9890c8ee534/iris.csv'\n",
        "my_df = pd.read_csv(url)\n",
        "#change last column from strings to numbers\n",
        "my_df['species']= my_df['species'].replace('setosa',0.0)\n",
        "my_df['species']= my_df['species'].replace('versicolor',1.0)\n",
        "my_df['species']= my_df['species'].replace('virginica',2.0)\n",
        "# creating my datapoints\n",
        "X = my_df.drop('species',axis=1)\n",
        "y = my_df['species']\n",
        "# Turnin into numpy array\n",
        "X = X.values\n",
        "y = y.values\n",
        "print(my_df)\n",
        "print()\n",
        "print(X)\n",
        "print()\n",
        "print(y)"
      ],
      "metadata": {
        "colab": {
          "base_uri": "https://localhost:8080/"
        },
        "id": "MqIZJvo04MkH",
        "outputId": "a30139c1-ef45-48ba-f374-01958f56e250"
      },
      "execution_count": 196,
      "outputs": [
        {
          "output_type": "stream",
          "name": "stdout",
          "text": [
            "     sepal_length  sepal_width  petal_length  petal_width  species\n",
            "0             5.1          3.5           1.4          0.2      0.0\n",
            "1             4.9          3.0           1.4          0.2      0.0\n",
            "2             4.7          3.2           1.3          0.2      0.0\n",
            "3             4.6          3.1           1.5          0.2      0.0\n",
            "4             5.0          3.6           1.4          0.2      0.0\n",
            "..            ...          ...           ...          ...      ...\n",
            "145           6.7          3.0           5.2          2.3      2.0\n",
            "146           6.3          2.5           5.0          1.9      2.0\n",
            "147           6.5          3.0           5.2          2.0      2.0\n",
            "148           6.2          3.4           5.4          2.3      2.0\n",
            "149           5.9          3.0           5.1          1.8      2.0\n",
            "\n",
            "[150 rows x 5 columns]\n",
            "\n",
            "[[5.1 3.5 1.4 0.2]\n",
            " [4.9 3.  1.4 0.2]\n",
            " [4.7 3.2 1.3 0.2]\n",
            " [4.6 3.1 1.5 0.2]\n",
            " [5.  3.6 1.4 0.2]\n",
            " [5.4 3.9 1.7 0.4]\n",
            " [4.6 3.4 1.4 0.3]\n",
            " [5.  3.4 1.5 0.2]\n",
            " [4.4 2.9 1.4 0.2]\n",
            " [4.9 3.1 1.5 0.1]\n",
            " [5.4 3.7 1.5 0.2]\n",
            " [4.8 3.4 1.6 0.2]\n",
            " [4.8 3.  1.4 0.1]\n",
            " [4.3 3.  1.1 0.1]\n",
            " [5.8 4.  1.2 0.2]\n",
            " [5.7 4.4 1.5 0.4]\n",
            " [5.4 3.9 1.3 0.4]\n",
            " [5.1 3.5 1.4 0.3]\n",
            " [5.7 3.8 1.7 0.3]\n",
            " [5.1 3.8 1.5 0.3]\n",
            " [5.4 3.4 1.7 0.2]\n",
            " [5.1 3.7 1.5 0.4]\n",
            " [4.6 3.6 1.  0.2]\n",
            " [5.1 3.3 1.7 0.5]\n",
            " [4.8 3.4 1.9 0.2]\n",
            " [5.  3.  1.6 0.2]\n",
            " [5.  3.4 1.6 0.4]\n",
            " [5.2 3.5 1.5 0.2]\n",
            " [5.2 3.4 1.4 0.2]\n",
            " [4.7 3.2 1.6 0.2]\n",
            " [4.8 3.1 1.6 0.2]\n",
            " [5.4 3.4 1.5 0.4]\n",
            " [5.2 4.1 1.5 0.1]\n",
            " [5.5 4.2 1.4 0.2]\n",
            " [4.9 3.1 1.5 0.1]\n",
            " [5.  3.2 1.2 0.2]\n",
            " [5.5 3.5 1.3 0.2]\n",
            " [4.9 3.1 1.5 0.1]\n",
            " [4.4 3.  1.3 0.2]\n",
            " [5.1 3.4 1.5 0.2]\n",
            " [5.  3.5 1.3 0.3]\n",
            " [4.5 2.3 1.3 0.3]\n",
            " [4.4 3.2 1.3 0.2]\n",
            " [5.  3.5 1.6 0.6]\n",
            " [5.1 3.8 1.9 0.4]\n",
            " [4.8 3.  1.4 0.3]\n",
            " [5.1 3.8 1.6 0.2]\n",
            " [4.6 3.2 1.4 0.2]\n",
            " [5.3 3.7 1.5 0.2]\n",
            " [5.  3.3 1.4 0.2]\n",
            " [7.  3.2 4.7 1.4]\n",
            " [6.4 3.2 4.5 1.5]\n",
            " [6.9 3.1 4.9 1.5]\n",
            " [5.5 2.3 4.  1.3]\n",
            " [6.5 2.8 4.6 1.5]\n",
            " [5.7 2.8 4.5 1.3]\n",
            " [6.3 3.3 4.7 1.6]\n",
            " [4.9 2.4 3.3 1. ]\n",
            " [6.6 2.9 4.6 1.3]\n",
            " [5.2 2.7 3.9 1.4]\n",
            " [5.  2.  3.5 1. ]\n",
            " [5.9 3.  4.2 1.5]\n",
            " [6.  2.2 4.  1. ]\n",
            " [6.1 2.9 4.7 1.4]\n",
            " [5.6 2.9 3.6 1.3]\n",
            " [6.7 3.1 4.4 1.4]\n",
            " [5.6 3.  4.5 1.5]\n",
            " [5.8 2.7 4.1 1. ]\n",
            " [6.2 2.2 4.5 1.5]\n",
            " [5.6 2.5 3.9 1.1]\n",
            " [5.9 3.2 4.8 1.8]\n",
            " [6.1 2.8 4.  1.3]\n",
            " [6.3 2.5 4.9 1.5]\n",
            " [6.1 2.8 4.7 1.2]\n",
            " [6.4 2.9 4.3 1.3]\n",
            " [6.6 3.  4.4 1.4]\n",
            " [6.8 2.8 4.8 1.4]\n",
            " [6.7 3.  5.  1.7]\n",
            " [6.  2.9 4.5 1.5]\n",
            " [5.7 2.6 3.5 1. ]\n",
            " [5.5 2.4 3.8 1.1]\n",
            " [5.5 2.4 3.7 1. ]\n",
            " [5.8 2.7 3.9 1.2]\n",
            " [6.  2.7 5.1 1.6]\n",
            " [5.4 3.  4.5 1.5]\n",
            " [6.  3.4 4.5 1.6]\n",
            " [6.7 3.1 4.7 1.5]\n",
            " [6.3 2.3 4.4 1.3]\n",
            " [5.6 3.  4.1 1.3]\n",
            " [5.5 2.5 4.  1.3]\n",
            " [5.5 2.6 4.4 1.2]\n",
            " [6.1 3.  4.6 1.4]\n",
            " [5.8 2.6 4.  1.2]\n",
            " [5.  2.3 3.3 1. ]\n",
            " [5.6 2.7 4.2 1.3]\n",
            " [5.7 3.  4.2 1.2]\n",
            " [5.7 2.9 4.2 1.3]\n",
            " [6.2 2.9 4.3 1.3]\n",
            " [5.1 2.5 3.  1.1]\n",
            " [5.7 2.8 4.1 1.3]\n",
            " [6.3 3.3 6.  2.5]\n",
            " [5.8 2.7 5.1 1.9]\n",
            " [7.1 3.  5.9 2.1]\n",
            " [6.3 2.9 5.6 1.8]\n",
            " [6.5 3.  5.8 2.2]\n",
            " [7.6 3.  6.6 2.1]\n",
            " [4.9 2.5 4.5 1.7]\n",
            " [7.3 2.9 6.3 1.8]\n",
            " [6.7 2.5 5.8 1.8]\n",
            " [7.2 3.6 6.1 2.5]\n",
            " [6.5 3.2 5.1 2. ]\n",
            " [6.4 2.7 5.3 1.9]\n",
            " [6.8 3.  5.5 2.1]\n",
            " [5.7 2.5 5.  2. ]\n",
            " [5.8 2.8 5.1 2.4]\n",
            " [6.4 3.2 5.3 2.3]\n",
            " [6.5 3.  5.5 1.8]\n",
            " [7.7 3.8 6.7 2.2]\n",
            " [7.7 2.6 6.9 2.3]\n",
            " [6.  2.2 5.  1.5]\n",
            " [6.9 3.2 5.7 2.3]\n",
            " [5.6 2.8 4.9 2. ]\n",
            " [7.7 2.8 6.7 2. ]\n",
            " [6.3 2.7 4.9 1.8]\n",
            " [6.7 3.3 5.7 2.1]\n",
            " [7.2 3.2 6.  1.8]\n",
            " [6.2 2.8 4.8 1.8]\n",
            " [6.1 3.  4.9 1.8]\n",
            " [6.4 2.8 5.6 2.1]\n",
            " [7.2 3.  5.8 1.6]\n",
            " [7.4 2.8 6.1 1.9]\n",
            " [7.9 3.8 6.4 2. ]\n",
            " [6.4 2.8 5.6 2.2]\n",
            " [6.3 2.8 5.1 1.5]\n",
            " [6.1 2.6 5.6 1.4]\n",
            " [7.7 3.  6.1 2.3]\n",
            " [6.3 3.4 5.6 2.4]\n",
            " [6.4 3.1 5.5 1.8]\n",
            " [6.  3.  4.8 1.8]\n",
            " [6.9 3.1 5.4 2.1]\n",
            " [6.7 3.1 5.6 2.4]\n",
            " [6.9 3.1 5.1 2.3]\n",
            " [5.8 2.7 5.1 1.9]\n",
            " [6.8 3.2 5.9 2.3]\n",
            " [6.7 3.3 5.7 2.5]\n",
            " [6.7 3.  5.2 2.3]\n",
            " [6.3 2.5 5.  1.9]\n",
            " [6.5 3.  5.2 2. ]\n",
            " [6.2 3.4 5.4 2.3]\n",
            " [5.9 3.  5.1 1.8]]\n",
            "\n",
            "[0. 0. 0. 0. 0. 0. 0. 0. 0. 0. 0. 0. 0. 0. 0. 0. 0. 0. 0. 0. 0. 0. 0. 0.\n",
            " 0. 0. 0. 0. 0. 0. 0. 0. 0. 0. 0. 0. 0. 0. 0. 0. 0. 0. 0. 0. 0. 0. 0. 0.\n",
            " 0. 0. 1. 1. 1. 1. 1. 1. 1. 1. 1. 1. 1. 1. 1. 1. 1. 1. 1. 1. 1. 1. 1. 1.\n",
            " 1. 1. 1. 1. 1. 1. 1. 1. 1. 1. 1. 1. 1. 1. 1. 1. 1. 1. 1. 1. 1. 1. 1. 1.\n",
            " 1. 1. 1. 1. 2. 2. 2. 2. 2. 2. 2. 2. 2. 2. 2. 2. 2. 2. 2. 2. 2. 2. 2. 2.\n",
            " 2. 2. 2. 2. 2. 2. 2. 2. 2. 2. 2. 2. 2. 2. 2. 2. 2. 2. 2. 2. 2. 2. 2. 2.\n",
            " 2. 2. 2. 2. 2. 2.]\n"
          ]
        },
        {
          "output_type": "stream",
          "name": "stderr",
          "text": [
            "<ipython-input-196-dedc367f6414>:9: FutureWarning: Downcasting behavior in `replace` is deprecated and will be removed in a future version. To retain the old behavior, explicitly call `result.infer_objects(copy=False)`. To opt-in to the future behavior, set `pd.set_option('future.no_silent_downcasting', True)`\n",
            "  my_df['species']= my_df['species'].replace('virginica',2.0)\n"
          ]
        }
      ]
    },
    {
      "cell_type": "code",
      "source": [
        "from sklearn.model_selection import train_test_split\n",
        "#train test split\n",
        "X_train,X_test,y_train,y_test = train_test_split(X,y, test_size = 0.2,random_state=41)\n",
        "X_train = torch.FloatTensor(X_train)\n",
        "X_test = torch.FloatTensor(X_test)\n",
        "y_train = torch.LongTensor(y_train)\n",
        "y_test = torch.LongTensor(y_test)"
      ],
      "metadata": {
        "id": "d1SGhl_v-0BS"
      },
      "execution_count": 197,
      "outputs": []
    },
    {
      "cell_type": "code",
      "source": [
        "#set the criterion of or model to measure the error\n",
        "criterion = nn.CrossEntropyLoss()\n",
        "# choose an optimzer, eta,epochs\n",
        "optimizers = torch.optim.Adam(model.parameters(),lr = 0.01)"
      ],
      "metadata": {
        "id": "QTudfGj5AeOB"
      },
      "execution_count": 198,
      "outputs": []
    },
    {
      "cell_type": "code",
      "source": [
        "epochs =100\n",
        "losses =[]\n",
        "for i in range(epochs):\n",
        "  y_pred = model.forward(X_train)\n",
        "  loss = criterion(y_pred,y_train)\n",
        "  losses.append(loss.detach().numpy())\n",
        "  if i % 10 == 0:\n",
        "    print(f'Epoch:{i} and loss: {loss}')\n",
        "  optimizers.zero_grad(\n",
        "\n",
        "  )\n",
        "  loss.backward()\n",
        "  optimizers.step()\n",
        "\n",
        "print()\n",
        "\n",
        "lossess = []\n",
        "for i in range(epochs):\n",
        "  y_pred = model.forward(X_test)\n",
        "  los = criterion(y_pred,y_test)\n",
        "  lossess.append(loss.detach().numpy())\n",
        "  if i % 10 == 0:\n",
        "    print(f'Epoch:{i} and loss: {los}')\n",
        "  optimizers.zero_grad(\n",
        "\n",
        "  )\n",
        "  los.backward()\n",
        "  optimizers.step()"
      ],
      "metadata": {
        "colab": {
          "base_uri": "https://localhost:8080/"
        },
        "id": "TWL--VmnBhbq",
        "outputId": "0ef58f26-b1fb-4339-cadd-ea57946a1521"
      },
      "execution_count": 199,
      "outputs": [
        {
          "output_type": "stream",
          "name": "stdout",
          "text": [
            "Epoch:0 and loss: 1.1251550912857056\n",
            "Epoch:10 and loss: 1.0096259117126465\n",
            "Epoch:20 and loss: 0.8157405853271484\n",
            "Epoch:30 and loss: 0.585706353187561\n",
            "Epoch:40 and loss: 0.3999636471271515\n",
            "Epoch:50 and loss: 0.26768800616264343\n",
            "Epoch:60 and loss: 0.17942361533641815\n",
            "Epoch:70 and loss: 0.12151690572500229\n",
            "Epoch:80 and loss: 0.0860118493437767\n",
            "Epoch:90 and loss: 0.06520850956439972\n",
            "\n",
            "Epoch:0 and loss: 0.13151279091835022\n",
            "Epoch:10 and loss: 0.12733624875545502\n",
            "Epoch:20 and loss: 0.12509723007678986\n",
            "Epoch:30 and loss: 0.12296021729707718\n",
            "Epoch:40 and loss: 0.12116082012653351\n",
            "Epoch:50 and loss: 0.1196383386850357\n",
            "Epoch:60 and loss: 0.1182316467165947\n",
            "Epoch:70 and loss: 0.11690129339694977\n",
            "Epoch:80 and loss: 0.11561182141304016\n",
            "Epoch:90 and loss: 0.11434867978096008\n"
          ]
        }
      ]
    },
    {
      "cell_type": "code",
      "source": [
        "\n",
        "plt.plot(range(epochs),losses, color = \"red\",label=\"Train\")\n",
        "plt.plot(range(epochs),lossess, color = \"blue\",label=\"Test\")\n",
        "plt.title(\"Train/Test Loss Curve\")\n",
        "plt.xlabel(\"Epochs\")\n",
        "plt.ylabel(\"Loss\")\n",
        "plt.legend([\"Train\",\"Test\"])\n",
        "plt.xlim(0,epochs)\n",
        "\n",
        "plt.show()"
      ],
      "metadata": {
        "colab": {
          "base_uri": "https://localhost:8080/",
          "height": 472
        },
        "id": "q8dwfs_0HpDb",
        "outputId": "156dcb6d-8ee7-42d8-ea27-e6e4f0fee04d"
      },
      "execution_count": 200,
      "outputs": [
        {
          "output_type": "display_data",
          "data": {
            "text/plain": [
              "<Figure size 640x480 with 1 Axes>"
            ],
            "image/png": "[encoded data removed]"
          },
          "metadata": {}
        }
      ]
    },
    {
      "cell_type": "code",
      "source": [],
      "metadata": {
        "id": "XqRIoMaoKay_"
      },
      "execution_count": null,
      "outputs": []
    }
  ]
}
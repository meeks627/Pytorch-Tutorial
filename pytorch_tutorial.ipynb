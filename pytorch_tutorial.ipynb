{
  "nbformat": 4,
  "nbformat_minor": 0,
  "metadata": {
    "colab": {
      "provenance": [],
      "authorship_tag": "ABX9TyPjIlhTxeH3ru9s6boCK3FM",
      "include_colab_link": true
    },
    "kernelspec": {
      "name": "python3",
      "display_name": "Python 3"
    },
    "language_info": {
      "name": "python"
    }
  },
  "cells": [
    {
      "cell_type": "markdown",
      "metadata": {
        "id": "view-in-github",
        "colab_type": "text"
      },
      "source": [
        "<a href=\"https://colab.research.google.com/github/meeks627/Pytorch-Tutorial/blob/main/pytorch_tutorial.ipynb\" target=\"_parent\"><img src=\"https://colab.research.google.com/assets/colab-badge.svg\" alt=\"Open In Colab\"/></a>"
      ]
    },
    {
      "cell_type": "code",
      "execution_count": null,
      "metadata": {
        "id": "hELQYBTpYA8J"
      },
      "outputs": [],
      "source": [
        "import torch\n",
        "import numpy as np"
      ]
    },
    {
      "cell_type": "code",
      "source": [
        "tensor_2d = torch.randn(3,4)\n",
        "tensor_2d\n",
        "# tensor_2d.dtype"
      ],
      "metadata": {
        "colab": {
          "base_uri": "https://localhost:8080/"
        },
        "id": "KEnR-RcrY1SE",
        "outputId": "5bb016f3-8b4a-4d32-b46d-73988c30aa56"
      },
      "execution_count": null,
      "outputs": [
        {
          "output_type": "execute_result",
          "data": {
            "text/plain": [
              "tensor([[-0.3781, -1.2492,  2.0396, -0.2836],\n",
              "        [-0.4907,  0.5605,  1.1981,  1.0539],\n",
              "        [-0.6266, -1.5251, -0.9607, -2.3335]])"
            ]
          },
          "metadata": {},
          "execution_count": 2
        }
      ]
    },
    {
      "cell_type": "code",
      "source": [
        "tensor_3d= torch.randn(2,3,4)\n",
        "tensor_3d"
      ],
      "metadata": {
        "id": "2Rn3VReeycgb",
        "colab": {
          "base_uri": "https://localhost:8080/"
        },
        "outputId": "aed3cdde-1596-4121-d2ab-4567bcfe403a"
      },
      "execution_count": null,
      "outputs": [
        {
          "output_type": "execute_result",
          "data": {
            "text/plain": [
              "tensor([[[ 0.3513, -0.2110, -0.2146,  0.4679],\n",
              "         [ 0.4851,  0.4067, -0.3137,  1.2015],\n",
              "         [ 0.1950,  1.9752,  0.4794,  0.7118]],\n",
              "\n",
              "        [[-0.4210, -1.3916,  0.1215,  0.5508],\n",
              "         [ 0.6849,  0.9296,  1.0492, -0.4004],\n",
              "         [ 0.2076,  0.2792, -0.8122,  1.1106]]])"
            ]
          },
          "metadata": {},
          "execution_count": 3
        }
      ]
    },
    {
      "cell_type": "markdown",
      "source": [
        "###Tensor from Numpy"
      ],
      "metadata": {
        "id": "S980yeteGFbh"
      }
    },
    {
      "cell_type": "code",
      "source": [
        "data = [[3,4],[8,11]]\n",
        "xdata = np.array(data)\n",
        "data_t = torch.tensor(data)\n",
        "print(xdata)\n",
        "print(data_t)\n",
        "print(torch.from_numpy(xdata))\n",
        "print(torch.ones_like(data_t))\n",
        "print(torch.zeros_like(data_t))\n"
      ],
      "metadata": {
        "id": "HQ-2NxlYzyrT",
        "colab": {
          "base_uri": "https://localhost:8080/"
        },
        "outputId": "98c36485-bae6-42bc-ae0b-69f115690214"
      },
      "execution_count": null,
      "outputs": [
        {
          "output_type": "stream",
          "name": "stdout",
          "text": [
            "[[ 3  4]\n",
            " [ 8 11]]\n",
            "tensor([[ 3,  4],\n",
            "        [ 8, 11]])\n",
            "tensor([[ 3,  4],\n",
            "        [ 8, 11]])\n",
            "tensor([[1, 1],\n",
            "        [1, 1]])\n",
            "tensor([[0, 0],\n",
            "        [0, 0]])\n"
          ]
        }
      ]
    },
    {
      "cell_type": "markdown",
      "source": [
        "##Tensor Operation"
      ],
      "metadata": {
        "id": "kWPkyYQG2tvE"
      }
    },
    {
      "cell_type": "code",
      "source": [
        "my_tensor = torch.arange(20)\n",
        "my_tensor.reshape(4,5)"
      ],
      "metadata": {
        "colab": {
          "base_uri": "https://localhost:8080/"
        },
        "id": "kgwtwho52inH",
        "outputId": "d76a0eb2-611d-48bd-97ca-5558d5cfcece"
      },
      "execution_count": null,
      "outputs": [
        {
          "output_type": "execute_result",
          "data": {
            "text/plain": [
              "tensor([[ 0,  1,  2,  3,  4],\n",
              "        [ 5,  6,  7,  8,  9],\n",
              "        [10, 11, 12, 13, 14],\n",
              "        [15, 16, 17, 18, 19]])"
            ]
          },
          "metadata": {},
          "execution_count": 5
        }
      ]
    },
    {
      "cell_type": "code",
      "source": [
        "my_tensor2 = torch.arange(20).reshape(2,2,5)\n",
        "print(my_tensor2)\n",
        "print(my_tensor2[:,1,1:-1])\n",
        "print(my_tensor2[0,0:2,0:2])\n"
      ],
      "metadata": {
        "colab": {
          "base_uri": "https://localhost:8080/"
        },
        "id": "LKU6SqOz3d9n",
        "outputId": "68d6a1e7-2003-4cd9-f185-e9576ecea004"
      },
      "execution_count": null,
      "outputs": [
        {
          "output_type": "stream",
          "name": "stdout",
          "text": [
            "tensor([[[ 0,  1,  2,  3,  4],\n",
            "         [ 5,  6,  7,  8,  9]],\n",
            "\n",
            "        [[10, 11, 12, 13, 14],\n",
            "         [15, 16, 17, 18, 19]]])\n",
            "tensor([[ 6,  7,  8],\n",
            "        [16, 17, 18]])\n",
            "tensor([[0, 1],\n",
            "        [5, 6]])\n"
          ]
        }
      ]
    },
    {
      "cell_type": "code",
      "source": [
        "Var1 = torch.randint(1,10,(2,2))\n",
        "Var2 = torch.randint(1,10,(2,2))\n",
        "print(torch.add(Var1,Var2))\n",
        "print(torch.sub(Var1,Var2))\n",
        "print(torch.mul(Var1,Var2))\n",
        "print(torch.div(Var1,Var2))"
      ],
      "metadata": {
        "id": "uKfwt53ZnhFx",
        "colab": {
          "base_uri": "https://localhost:8080/"
        },
        "outputId": "a60c9b94-ae1f-4add-f6bc-7569d7067db2"
      },
      "execution_count": null,
      "outputs": [
        {
          "output_type": "stream",
          "name": "stdout",
          "text": [
            "tensor([[13, 13],\n",
            "        [ 7,  6]])\n",
            "tensor([[-5, -5],\n",
            "        [-5,  0]])\n",
            "tensor([[36, 36],\n",
            "        [ 6,  9]])\n",
            "tensor([[0.4444, 0.4444],\n",
            "        [0.1667, 1.0000]])\n"
          ]
        }
      ]
    },
    {
      "cell_type": "markdown",
      "source": [
        "##Building a Simple model"
      ],
      "metadata": {
        "id": "CEcV66UKmmLu"
      }
    },
    {
      "cell_type": "code",
      "source": [
        "import torch\n",
        "import torch.nn as nn\n",
        "import torch.nn.functional as F"
      ],
      "metadata": {
        "id": "WKl0XsLcmuSG"
      },
      "execution_count": null,
      "outputs": []
    },
    {
      "cell_type": "code",
      "source": [
        "class Model(nn.Module):\n",
        "  def __init__(self,in_size=2,h1=10,h2=5,out_size=2):\n",
        "    super().__init__()\n",
        "    self.w1 = nn.Linear(in_size,h1)\n",
        "    self.w2 = nn.Linear(h1,h2)\n",
        "    self.out = nn.Linear(h2,out_size)\n",
        "  def forward(self,x):\n",
        "    X = F.relu(self.w1(x))\n",
        "    X = F.relu(self.w2(X))\n",
        "    X = self.out(X)\n",
        "    return X\n",
        "\n",
        "M = Model()\n",
        "points = torch.randn(40,2)\n",
        "M.forward(points)\n",
        "# print(M.w1.weight[1,1])\n",
        "# print(M.w1.bias)\n",
        "torch.save(M.state_dict(),'model.pt')"
      ],
      "metadata": {
        "id": "xw1PIyFCnoY0"
      },
      "execution_count": null,
      "outputs": []
    }
  ]
}